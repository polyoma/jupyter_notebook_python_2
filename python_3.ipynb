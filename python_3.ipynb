{
 "cells": [
  {
   "cell_type": "code",
   "execution_count": 1,
   "metadata": {
    "collapsed": true
   },
   "outputs": [],
   "source": [
    "mikes=83"
   ]
  },
  {
   "cell_type": "code",
   "execution_count": 4,
   "metadata": {},
   "outputs": [],
   "source": [
    "if mikes==1:\n",
    "    mikes_lisdky_vek=18\n",
    "elif mikes==2:\n",
    "    mikes_lidsky_vek=18+7\n",
    "else:\n",
    "    mikes_lidsky_vek=(18+7)+((mikes-2)*5)"
   ]
  },
  {
   "cell_type": "code",
   "execution_count": 5,
   "metadata": {},
   "outputs": [
    {
     "data": {
      "text/plain": [
       "430"
      ]
     },
     "execution_count": 5,
     "metadata": {},
     "output_type": "execute_result"
    }
   ],
   "source": [
    "mikes_lidsky_vek"
   ]
  },
  {
   "cell_type": "code",
   "execution_count": 88,
   "metadata": {
    "collapsed": true
   },
   "outputs": [],
   "source": [
    "vyrok='Král řekl Honzovi: \"Ta saň má 7 hlav! Zabij ji a dostaneš 1/2 království.\"'"
   ]
  },
  {
   "cell_type": "code",
   "execution_count": 89,
   "metadata": {},
   "outputs": [
    {
     "data": {
      "text/plain": [
       "['k',\n",
       " 'r',\n",
       " '\\xc3',\n",
       " '\\xa1',\n",
       " 'l',\n",
       " ' ',\n",
       " '\\xc5',\n",
       " '\\x99',\n",
       " 'e',\n",
       " 'k',\n",
       " 'l',\n",
       " ' ',\n",
       " 'h',\n",
       " 'o',\n",
       " 'n',\n",
       " 'z',\n",
       " 'o',\n",
       " 'v',\n",
       " 'i',\n",
       " ':',\n",
       " ' ',\n",
       " '\"',\n",
       " 't',\n",
       " 'a',\n",
       " ' ',\n",
       " 's',\n",
       " 'a',\n",
       " '\\xc5',\n",
       " '\\x88',\n",
       " ' ',\n",
       " 'm',\n",
       " '\\xc3',\n",
       " '\\xa1',\n",
       " ' ',\n",
       " '7',\n",
       " ' ',\n",
       " 'h',\n",
       " 'l',\n",
       " 'a',\n",
       " 'v',\n",
       " '!',\n",
       " ' ',\n",
       " 'z',\n",
       " 'a',\n",
       " 'b',\n",
       " 'i',\n",
       " 'j',\n",
       " ' ',\n",
       " 'j',\n",
       " 'i',\n",
       " ' ',\n",
       " 'a',\n",
       " ' ',\n",
       " 'd',\n",
       " 'o',\n",
       " 's',\n",
       " 't',\n",
       " 'a',\n",
       " 'n',\n",
       " 'e',\n",
       " '\\xc5',\n",
       " '\\xa1',\n",
       " ' ',\n",
       " '1',\n",
       " '/',\n",
       " '2',\n",
       " ' ',\n",
       " 'k',\n",
       " 'r',\n",
       " '\\xc3',\n",
       " '\\xa1',\n",
       " 'l',\n",
       " 'o',\n",
       " 'v',\n",
       " 's',\n",
       " 't',\n",
       " 'v',\n",
       " '\\xc3',\n",
       " '\\xad',\n",
       " '.',\n",
       " '\"']"
      ]
     },
     "execution_count": 89,
     "metadata": {},
     "output_type": "execute_result"
    }
   ],
   "source": [
    "vyrok_lower = []\n",
    "for letter in vyrok:\n",
    "    vyrok_lower.append(letter.lower())\n",
    "vyrok_lower"
   ]
  },
  {
   "cell_type": "code",
   "execution_count": 90,
   "metadata": {},
   "outputs": [
    {
     "data": {
      "text/plain": [
       "{'a',\n",
       " 'b',\n",
       " 'c',\n",
       " 'd',\n",
       " 'e',\n",
       " 'f',\n",
       " 'g',\n",
       " 'h',\n",
       " 'i',\n",
       " 'j',\n",
       " 'k',\n",
       " 'l',\n",
       " 'm',\n",
       " 'n',\n",
       " 'o',\n",
       " 'p',\n",
       " 'q',\n",
       " 'r',\n",
       " 's',\n",
       " 't',\n",
       " 'u',\n",
       " 'v',\n",
       " 'w',\n",
       " 'x',\n",
       " 'y',\n",
       " 'z',\n",
       " '\\x8d',\n",
       " '\\x99',\n",
       " '\\x9b',\n",
       " '\\xa1',\n",
       " '\\xa9',\n",
       " '\\xad',\n",
       " '\\xbd',\n",
       " '\\xbe',\n",
       " '\\xc3',\n",
       " '\\xc4',\n",
       " '\\xc5'}"
      ]
     },
     "execution_count": 90,
     "metadata": {},
     "output_type": "execute_result"
    }
   ],
   "source": [
    "alphabet = 'abcdefghijklmnopqrstuvwxyzěščřžýáíé'\n",
    "set(alphabet)\n"
   ]
  },
  {
   "cell_type": "code",
   "execution_count": 91,
   "metadata": {},
   "outputs": [
    {
     "data": {
      "text/plain": [
       "{'1', '2', '3', '4', '5', '6', '7', '8', '9'}"
      ]
     },
     "execution_count": 91,
     "metadata": {},
     "output_type": "execute_result"
    }
   ],
   "source": [
    "numbers = {'1','2','3','4','5','6','7','8','9'}\n",
    "numbers"
   ]
  },
  {
   "cell_type": "code",
   "execution_count": 92,
   "metadata": {},
   "outputs": [],
   "source": [
    "letters_count=[]\n",
    "numbers_count=[]\n",
    "symbol_count=[]"
   ]
  },
  {
   "cell_type": "code",
   "execution_count": 93,
   "metadata": {},
   "outputs": [],
   "source": [
    "for letter in vyrok_lower:\n",
    "    if letter in alphabet:\n",
    "        letters_count.append(letter)\n",
    "    elif letter in numbers:\n",
    "        numbers_count.append(letter)\n",
    "    else:\n",
    "        symbol_count.append(letter)\n",
    "    "
   ]
  },
  {
   "cell_type": "code",
   "execution_count": 110,
   "metadata": {},
   "outputs": [
    {
     "name": "stdout",
     "output_type": "stream",
     "text": [
      "('Pocet pismen:', 58, 'Pocet cisel:', 3, 'Pocet jinych znaku:', 20)\n"
     ]
    }
   ],
   "source": [
    "Pocet_pismen=len(letters_count)\n",
    "Pocet_cisel=len(numbers_count)\n",
    "Pocet_jinych_znaku=len(symbol_count)\n",
    "print('Pocet pismen:',Pocet_pismen,'Pocet cisel:',Pocet_cisel, 'Pocet jinych znaku:',Pocet_jinych_znaku)"
   ]
  },
  {
   "cell_type": "code",
   "execution_count": null,
   "metadata": {
    "collapsed": true
   },
   "outputs": [],
   "source": []
  }
 ],
 "metadata": {
  "kernelspec": {
   "display_name": "Python 2",
   "language": "python",
   "name": "python2"
  },
  "language_info": {
   "codemirror_mode": {
    "name": "ipython",
    "version": 2
   },
   "file_extension": ".py",
   "mimetype": "text/x-python",
   "name": "python",
   "nbconvert_exporter": "python",
   "pygments_lexer": "ipython2",
   "version": "2.7.14"
  }
 },
 "nbformat": 4,
 "nbformat_minor": 2
}
