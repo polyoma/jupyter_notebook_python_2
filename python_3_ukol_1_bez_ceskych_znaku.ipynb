{
 "cells": [
  {
   "cell_type": "code",
   "execution_count": 2,
   "metadata": {
    "collapsed": true
   },
   "outputs": [],
   "source": [
    "vyrok='Kral rekl Honzovi: \"Ta san ma 7 hlav! Zabij ji a dostanes 1/2 kralovstvi.\"'"
   ]
  },
  {
   "cell_type": "code",
   "execution_count": 3,
   "metadata": {},
   "outputs": [
    {
     "data": {
      "text/plain": [
       "['k',\n",
       " 'r',\n",
       " 'a',\n",
       " 'l',\n",
       " ' ',\n",
       " 'r',\n",
       " 'e',\n",
       " 'k',\n",
       " 'l',\n",
       " ' ',\n",
       " 'h',\n",
       " 'o',\n",
       " 'n',\n",
       " 'z',\n",
       " 'o',\n",
       " 'v',\n",
       " 'i',\n",
       " ':',\n",
       " ' ',\n",
       " '\"',\n",
       " 't',\n",
       " 'a',\n",
       " ' ',\n",
       " 's',\n",
       " 'a',\n",
       " 'n',\n",
       " ' ',\n",
       " 'm',\n",
       " 'a',\n",
       " ' ',\n",
       " '7',\n",
       " ' ',\n",
       " 'h',\n",
       " 'l',\n",
       " 'a',\n",
       " 'v',\n",
       " '!',\n",
       " ' ',\n",
       " 'z',\n",
       " 'a',\n",
       " 'b',\n",
       " 'i',\n",
       " 'j',\n",
       " ' ',\n",
       " 'j',\n",
       " 'i',\n",
       " ' ',\n",
       " 'a',\n",
       " ' ',\n",
       " 'd',\n",
       " 'o',\n",
       " 's',\n",
       " 't',\n",
       " 'a',\n",
       " 'n',\n",
       " 'e',\n",
       " 's',\n",
       " ' ',\n",
       " '1',\n",
       " '/',\n",
       " '2',\n",
       " ' ',\n",
       " 'k',\n",
       " 'r',\n",
       " 'a',\n",
       " 'l',\n",
       " 'o',\n",
       " 'v',\n",
       " 's',\n",
       " 't',\n",
       " 'v',\n",
       " 'i',\n",
       " '.',\n",
       " '\"']"
      ]
     },
     "execution_count": 3,
     "metadata": {},
     "output_type": "execute_result"
    }
   ],
   "source": [
    "vyrok_lower = []\n",
    "for letter in vyrok:\n",
    "    vyrok_lower.append(letter.lower())\n",
    "vyrok_lower"
   ]
  },
  {
   "cell_type": "code",
   "execution_count": 4,
   "metadata": {},
   "outputs": [
    {
     "data": {
      "text/plain": [
       "{'a',\n",
       " 'b',\n",
       " 'c',\n",
       " 'd',\n",
       " 'e',\n",
       " 'f',\n",
       " 'g',\n",
       " 'h',\n",
       " 'i',\n",
       " 'j',\n",
       " 'k',\n",
       " 'l',\n",
       " 'm',\n",
       " 'n',\n",
       " 'o',\n",
       " 'p',\n",
       " 'q',\n",
       " 'r',\n",
       " 's',\n",
       " 't',\n",
       " 'u',\n",
       " 'v',\n",
       " 'w',\n",
       " 'x',\n",
       " 'y',\n",
       " 'z'}"
      ]
     },
     "execution_count": 4,
     "metadata": {},
     "output_type": "execute_result"
    }
   ],
   "source": [
    "alphabet = 'abcdefghijklmnopqrstuvwxyz'\n",
    "set(alphabet)"
   ]
  },
  {
   "cell_type": "code",
   "execution_count": 5,
   "metadata": {
    "collapsed": true
   },
   "outputs": [],
   "source": [
    "numbers = {'1','2','3','4','5','6','7','8','9'}"
   ]
  },
  {
   "cell_type": "code",
   "execution_count": 6,
   "metadata": {
    "collapsed": true
   },
   "outputs": [],
   "source": [
    "letters_count=[]\n",
    "numbers_count=[]\n",
    "symbol_count=[]"
   ]
  },
  {
   "cell_type": "code",
   "execution_count": 7,
   "metadata": {
    "collapsed": true
   },
   "outputs": [],
   "source": [
    "for letter in vyrok_lower:\n",
    "    if letter in alphabet:\n",
    "        letters_count.append(letter)\n",
    "    elif letter in numbers:\n",
    "        numbers_count.append(letter)\n",
    "    else:\n",
    "        symbol_count.append(letter)"
   ]
  },
  {
   "cell_type": "code",
   "execution_count": 8,
   "metadata": {},
   "outputs": [
    {
     "name": "stdout",
     "output_type": "stream",
     "text": [
      "('Pocet pismen:', 52, 'Pocet cisel:', 3, 'Pocet jinych znaku:', 19)\n"
     ]
    }
   ],
   "source": [
    "Pocet_pismen=len(letters_count)\n",
    "Pocet_cisel=len(numbers_count)\n",
    "Pocet_jinych_znaku=len(symbol_count)\n",
    "print('Pocet pismen:',Pocet_pismen,'Pocet cisel:',Pocet_cisel, 'Pocet jinych znaku:',Pocet_jinych_znaku)"
   ]
  },
  {
   "cell_type": "code",
   "execution_count": null,
   "metadata": {
    "collapsed": true
   },
   "outputs": [],
   "source": []
  }
 ],
 "metadata": {
  "kernelspec": {
   "display_name": "Python 2",
   "language": "python",
   "name": "python2"
  },
  "language_info": {
   "codemirror_mode": {
    "name": "ipython",
    "version": 2
   },
   "file_extension": ".py",
   "mimetype": "text/x-python",
   "name": "python",
   "nbconvert_exporter": "python",
   "pygments_lexer": "ipython2",
   "version": "2.7.14"
  }
 },
 "nbformat": 4,
 "nbformat_minor": 2
}
